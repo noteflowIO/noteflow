{
 "cells": [
  {
   "cell_type": "markdown",
   "metadata": {},
   "source": [
    "# NoteFlow\n",
    "- The first code cell of a noteflow is special and documents inputs and outputs via formatted comments.\n",
    "- However, it is arbitrary code and can be used in anyway you like for local development and testing. In production, values provided by the user are inserted just below this cell. \n",
    "- The formatted comments (I/O spec) have three parts:\n",
    "    - **input/ouput**: marks variable as an input or output\n",
    "    - **type**: I/O is typed (for the underlying API). Types are: `string`, `number`, `boolean`, `filepath`, and `dirpath`\n",
    "    - **description**: The rest of the comment becomes the prompt/description for the field in the generated App. "
   ]
  },
  {
   "cell_type": "code",
   "execution_count": null,
   "metadata": {},
   "outputs": [],
   "source": [
    "include_range = True           #input  boolean   Include Best and Worst States\n",
    "states = 'Washington'          #input  string    Additional States to include (e.g. Washington, New York)\n",
    "min_date = None                #input  string    Start Date (default: all dates)\n",
    "\n",
    "asof_date = None               #output string    Data as-of date\n",
    "us_total = None                #output number    Total People Fully Vaccinated in US\n",
    "plot_image = 'vaccinated.png'  #output filepath  Plot Image"
   ]
  },
  {
   "cell_type": "markdown",
   "metadata": {
    "execution": {
     "iopub.execute_input": "2021-05-03T19:28:56.343855Z",
     "iopub.status.busy": "2021-05-03T19:28:56.343605Z",
     "iopub.status.idle": "2021-05-03T19:28:56.348243Z",
     "shell.execute_reply": "2021-05-03T19:28:56.347485Z",
     "shell.execute_reply.started": "2021-05-03T19:28:56.343830Z"
    }
   },
   "source": [
    "## NoteFlow Libraries\n",
    "- `numpy`, `pandas`, `matplotlib` and many others are pre-installed\n",
    "- install missing libraries with `!pip install` "
   ]
  },
  {
   "cell_type": "code",
   "execution_count": 2,
   "metadata": {
    "execution": {
     "iopub.status.idle": "2021-05-03T19:46:19.320588Z",
     "shell.execute_reply": "2021-05-03T19:46:19.320159Z",
     "shell.execute_reply.started": "2021-05-03T19:46:19.085752Z"
    }
   },
   "outputs": [],
   "source": [
    "import pandas as pd"
   ]
  },
  {
   "cell_type": "markdown",
   "metadata": {},
   "source": [
    "## Covid Data\n",
    "- [Data](https://github.com/owid/covid-19-data) on COVID-19 (coronavirus) by [Our World in Data](https://github.com/owid)\n",
    "\n",
    "> State-by-state data on United States COVID-19 vaccinations. We rely on the data updated daily by the United States Centers for Disease Control and Prevention.\n",
    "\n",
    " "
   ]
  },
  {
   "cell_type": "code",
   "execution_count": 3,
   "metadata": {
    "execution": {
     "iopub.execute_input": "2021-05-03T19:46:19.322086Z",
     "iopub.status.busy": "2021-05-03T19:46:19.321925Z",
     "iopub.status.idle": "2021-05-03T19:46:19.563046Z",
     "shell.execute_reply": "2021-05-03T19:46:19.562645Z",
     "shell.execute_reply.started": "2021-05-03T19:46:19.322070Z"
    }
   },
   "outputs": [
    {
     "data": {
      "text/html": [
       "<div>\n",
       "<style scoped>\n",
       "    .dataframe tbody tr th:only-of-type {\n",
       "        vertical-align: middle;\n",
       "    }\n",
       "\n",
       "    .dataframe tbody tr th {\n",
       "        vertical-align: top;\n",
       "    }\n",
       "\n",
       "    .dataframe thead th {\n",
       "        text-align: right;\n",
       "    }\n",
       "</style>\n",
       "<table border=\"1\" class=\"dataframe\">\n",
       "  <thead>\n",
       "    <tr style=\"text-align: right;\">\n",
       "      <th></th>\n",
       "      <th>date</th>\n",
       "      <th>location</th>\n",
       "      <th>total_vaccinations</th>\n",
       "      <th>total_distributed</th>\n",
       "      <th>people_vaccinated</th>\n",
       "      <th>people_fully_vaccinated_per_hundred</th>\n",
       "      <th>total_vaccinations_per_hundred</th>\n",
       "      <th>people_fully_vaccinated</th>\n",
       "      <th>people_vaccinated_per_hundred</th>\n",
       "      <th>distributed_per_hundred</th>\n",
       "      <th>daily_vaccinations_raw</th>\n",
       "      <th>daily_vaccinations</th>\n",
       "      <th>daily_vaccinations_per_million</th>\n",
       "      <th>share_doses_used</th>\n",
       "    </tr>\n",
       "  </thead>\n",
       "  <tbody>\n",
       "    <tr>\n",
       "      <th>0</th>\n",
       "      <td>2021-01-12</td>\n",
       "      <td>Alabama</td>\n",
       "      <td>78134.0</td>\n",
       "      <td>377025.0</td>\n",
       "      <td>70861.0</td>\n",
       "      <td>0.15</td>\n",
       "      <td>1.59</td>\n",
       "      <td>7270.0</td>\n",
       "      <td>1.45</td>\n",
       "      <td>7.69</td>\n",
       "      <td>NaN</td>\n",
       "      <td>NaN</td>\n",
       "      <td>NaN</td>\n",
       "      <td>0.207</td>\n",
       "    </tr>\n",
       "    <tr>\n",
       "      <th>1</th>\n",
       "      <td>2021-01-13</td>\n",
       "      <td>Alabama</td>\n",
       "      <td>84040.0</td>\n",
       "      <td>378975.0</td>\n",
       "      <td>74792.0</td>\n",
       "      <td>0.19</td>\n",
       "      <td>1.71</td>\n",
       "      <td>9245.0</td>\n",
       "      <td>1.53</td>\n",
       "      <td>7.73</td>\n",
       "      <td>5906.0</td>\n",
       "      <td>5906.0</td>\n",
       "      <td>1205.0</td>\n",
       "      <td>0.222</td>\n",
       "    </tr>\n",
       "  </tbody>\n",
       "</table>\n",
       "</div>"
      ],
      "text/plain": [
       "         date location  total_vaccinations  total_distributed  \\\n",
       "0  2021-01-12  Alabama             78134.0           377025.0   \n",
       "1  2021-01-13  Alabama             84040.0           378975.0   \n",
       "\n",
       "   people_vaccinated  people_fully_vaccinated_per_hundred  \\\n",
       "0            70861.0                                 0.15   \n",
       "1            74792.0                                 0.19   \n",
       "\n",
       "   total_vaccinations_per_hundred  people_fully_vaccinated  \\\n",
       "0                            1.59                   7270.0   \n",
       "1                            1.71                   9245.0   \n",
       "\n",
       "   people_vaccinated_per_hundred  distributed_per_hundred  \\\n",
       "0                           1.45                     7.69   \n",
       "1                           1.53                     7.73   \n",
       "\n",
       "   daily_vaccinations_raw  daily_vaccinations  daily_vaccinations_per_million  \\\n",
       "0                     NaN                 NaN                             NaN   \n",
       "1                  5906.0              5906.0                          1205.0   \n",
       "\n",
       "   share_doses_used  \n",
       "0             0.207  \n",
       "1             0.222  "
      ]
     },
     "execution_count": 3,
     "metadata": {},
     "output_type": "execute_result"
    }
   ],
   "source": [
    "df = pd.read_csv('https://raw.githubusercontent.com/owid/covid-19-data/master/public/data/vaccinations/us_state_vaccinations.csv')\n",
    "df.head(2)"
   ]
  },
  {
   "cell_type": "markdown",
   "metadata": {},
   "source": [
    "### Transform Dates"
   ]
  },
  {
   "cell_type": "code",
   "execution_count": 4,
   "metadata": {
    "execution": {
     "iopub.execute_input": "2021-05-03T19:46:19.564779Z",
     "iopub.status.busy": "2021-05-03T19:46:19.564523Z",
     "iopub.status.idle": "2021-05-03T19:46:19.574067Z",
     "shell.execute_reply": "2021-05-03T19:46:19.573346Z",
     "shell.execute_reply.started": "2021-05-03T19:46:19.564725Z"
    }
   },
   "outputs": [
    {
     "name": "stdout",
     "output_type": "stream",
     "text": [
      "asof_date: 2021-05-03 00:00:00\n",
      "date_range: (Timestamp('2020-12-20 00:00:00'), '2021-05-03 00:00:00')\n"
     ]
    }
   ],
   "source": [
    "df['date'] = pd.to_datetime(df['date'])\n",
    "\n",
    "asof_date = str(df['date'].max())\n",
    "print('asof_date:', asof_date)\n",
    "\n",
    "min_date = pd.to_datetime(min_date, errors='coerce')\n",
    "min_date = df['date'].min() if pd.isnull(min_date) else min_date\n",
    "\n",
    "date_range = min_date, asof_date\n",
    "print('date_range:', date_range)"
   ]
  },
  {
   "cell_type": "markdown",
   "metadata": {
    "execution": {
     "iopub.execute_input": "2021-03-31T21:15:56.673192Z",
     "iopub.status.busy": "2021-03-31T21:15:56.672989Z",
     "iopub.status.idle": "2021-03-31T21:15:56.675817Z",
     "shell.execute_reply": "2021-03-31T21:15:56.675072Z",
     "shell.execute_reply.started": "2021-03-31T21:15:56.673168Z"
    }
   },
   "source": [
    "### US Data"
   ]
  },
  {
   "cell_type": "code",
   "execution_count": 5,
   "metadata": {
    "execution": {
     "iopub.execute_input": "2021-05-03T19:46:19.575247Z",
     "iopub.status.busy": "2021-05-03T19:46:19.575075Z",
     "iopub.status.idle": "2021-05-03T19:46:19.578316Z",
     "shell.execute_reply": "2021-05-03T19:46:19.577664Z",
     "shell.execute_reply.started": "2021-05-03T19:46:19.575217Z"
    }
   },
   "outputs": [],
   "source": [
    "state_list = set(['United States']) # Always show US"
   ]
  },
  {
   "cell_type": "code",
   "execution_count": 6,
   "metadata": {
    "execution": {
     "iopub.execute_input": "2021-05-03T19:46:19.579716Z",
     "iopub.status.busy": "2021-05-03T19:46:19.579412Z",
     "iopub.status.idle": "2021-05-03T19:46:19.586834Z",
     "shell.execute_reply": "2021-05-03T19:46:19.586366Z",
     "shell.execute_reply.started": "2021-05-03T19:46:19.579638Z"
    }
   },
   "outputs": [
    {
     "name": "stdout",
     "output_type": "stream",
     "text": [
      "105523520.0\n"
     ]
    }
   ],
   "source": [
    "us_total = df['people_fully_vaccinated'][(df['location']=='United States') & (df['date'] == asof_date)]\n",
    "assert len(us_total) == 1, 'Error: Repeated Dates'\n",
    "\n",
    "us_total = us_total.values[0]\n",
    "print(us_total)"
   ]
  },
  {
   "cell_type": "markdown",
   "metadata": {},
   "source": [
    "### State Data"
   ]
  },
  {
   "cell_type": "code",
   "execution_count": 7,
   "metadata": {
    "execution": {
     "iopub.execute_input": "2021-05-03T19:46:19.587961Z",
     "iopub.status.busy": "2021-05-03T19:46:19.587570Z",
     "iopub.status.idle": "2021-05-03T19:46:19.595260Z",
     "shell.execute_reply": "2021-05-03T19:46:19.594487Z",
     "shell.execute_reply.started": "2021-05-03T19:46:19.587917Z"
    }
   },
   "outputs": [
    {
     "data": {
      "text/plain": [
       "50"
      ]
     },
     "execution_count": 7,
     "metadata": {},
     "output_type": "execute_result"
    }
   ],
   "source": [
    "# we want to pick best/worst exlcuding territories and other locations\n",
    "fifty_states = set(['Alabama', 'Alaska', 'Arizona', 'Arkansas', 'California', 'Colorado', 'Connecticut', \n",
    "                    'Delaware', 'Florida', 'Georgia', 'Hawaii', 'Idaho', 'Illinois', 'Indiana', 'Iowa', 'Kansas', \n",
    "                    'Kentucky', 'Louisiana', 'Maine', 'Maryland', 'Massachusetts', 'Michigan', 'Minnesota', \n",
    "                    'Mississippi', 'Missouri', 'Montana', 'Nebraska', 'Nevada', 'New Hampshire', 'New Jersey', \n",
    "                    'New Mexico', 'New York State', 'North Carolina', 'North Dakota', 'Ohio', 'Oklahoma', 'Oregon',\n",
    "                    'Pennsylvania', 'Rhode Island', 'South Carolina', 'South Dakota', 'Tennessee', 'Texas', 'Utah',\n",
    "                    'Vermont', 'Virginia', 'Washington', 'West Virginia', 'Wisconsin', 'Wyoming'])\n",
    "len(fifty_states)"
   ]
  },
  {
   "cell_type": "code",
   "execution_count": 8,
   "metadata": {
    "execution": {
     "iopub.execute_input": "2021-05-03T19:46:19.597776Z",
     "iopub.status.busy": "2021-05-03T19:46:19.597546Z",
     "iopub.status.idle": "2021-05-03T19:46:19.608988Z",
     "shell.execute_reply": "2021-05-03T19:46:19.608476Z",
     "shell.execute_reply.started": "2021-05-03T19:46:19.597744Z"
    }
   },
   "outputs": [
    {
     "name": "stdout",
     "output_type": "stream",
     "text": [
      "Worst: Mississippi @ 23.81\n",
      "Best: Connecticut @ 40.33\n"
     ]
    }
   ],
   "source": [
    "max_vax = df[df['location'].isin(fifty_states)].groupby('location')['people_fully_vaccinated_per_hundred'].max().sort_values()\n",
    "\n",
    "worst_state = max_vax.index[0]\n",
    "print('Worst:', worst_state, '@', max_vax[worst_state])\n",
    "if include_range: \n",
    "    state_list.add(worst_state)\n",
    "\n",
    "best_state = max_vax.index[-1]\n",
    "print('Best:', best_state, '@', max_vax[best_state])\n",
    "if include_range: \n",
    "    state_list.add(best_state)"
   ]
  },
  {
   "cell_type": "code",
   "execution_count": 9,
   "metadata": {
    "execution": {
     "iopub.execute_input": "2021-05-03T19:46:19.610098Z",
     "iopub.status.busy": "2021-05-03T19:46:19.609925Z",
     "iopub.status.idle": "2021-05-03T19:46:19.623971Z",
     "shell.execute_reply": "2021-05-03T19:46:19.623419Z",
     "shell.execute_reply.started": "2021-05-03T19:46:19.610077Z"
    }
   },
   "outputs": [
    {
     "name": "stdout",
     "output_type": "stream",
     "text": [
      "Selected: Washington @ 33.69\n"
     ]
    }
   ],
   "source": [
    "# Were additional states provided? (Ignore case)\n",
    "location = df['location'].str.strip().str.lower() # valid locations\n",
    "\n",
    "for state in states.split(','):\n",
    "    state = state.lower().strip()\n",
    "    if (location == state).any():\n",
    "        state = df['location'][location == state].values[0]\n",
    "        print('Selected:', state, '@', df['people_fully_vaccinated_per_hundred'][df['location']==state].max())\n",
    "        state_list.add(state)"
   ]
  },
  {
   "cell_type": "markdown",
   "metadata": {},
   "source": [
    "### Plot"
   ]
  },
  {
   "cell_type": "code",
   "execution_count": 10,
   "metadata": {
    "execution": {
     "iopub.execute_input": "2021-05-03T19:46:19.624990Z",
     "iopub.status.busy": "2021-05-03T19:46:19.624700Z",
     "iopub.status.idle": "2021-05-03T19:46:19.632871Z",
     "shell.execute_reply": "2021-05-03T19:46:19.632204Z",
     "shell.execute_reply.started": "2021-05-03T19:46:19.624965Z"
    }
   },
   "outputs": [],
   "source": [
    "sel_df = df[df['location'].isin(state_list)].pivot(index='date', columns='location', values='people_fully_vaccinated_per_hundred')"
   ]
  },
  {
   "cell_type": "code",
   "execution_count": 11,
   "metadata": {
    "execution": {
     "iopub.execute_input": "2021-05-03T19:46:19.633895Z",
     "iopub.status.busy": "2021-05-03T19:46:19.633664Z",
     "iopub.status.idle": "2021-05-03T19:46:20.058176Z",
     "shell.execute_reply": "2021-05-03T19:46:20.057493Z",
     "shell.execute_reply.started": "2021-05-03T19:46:19.633849Z"
    }
   },
   "outputs": [
    {
     "data": {
      "image/png": "[encoded data removed]",
      "text/plain": [
       "<Figure size 720x432 with 1 Axes>"
      ]
     },
     "metadata": {
      "needs_background": "light"
     },
     "output_type": "display_data"
    }
   ],
   "source": [
    "fig = sel_df.plot(title='People Fully Vaccinated Per Hundered', xlim=date_range, ylim=(0,100), grid=True, figsize=(10, 6)).get_figure()"
   ]
  },
  {
   "cell_type": "code",
   "execution_count": 12,
   "metadata": {
    "execution": {
     "iopub.execute_input": "2021-05-03T19:46:20.059372Z",
     "iopub.status.busy": "2021-05-03T19:46:20.059162Z",
     "iopub.status.idle": "2021-05-03T19:46:20.148322Z",
     "shell.execute_reply": "2021-05-03T19:46:20.147792Z",
     "shell.execute_reply.started": "2021-05-03T19:46:20.059339Z"
    }
   },
   "outputs": [],
   "source": [
    "fig.savefig(plot_image)"
   ]
  },
  {
   "cell_type": "code",
   "execution_count": null,
   "metadata": {},
   "outputs": [],
   "source": []
  }
 ],
 "metadata": {
  "kernelspec": {
   "display_name": "Python 3",
   "language": "python",
   "name": "python3"
  },
  "language_info": {
   "codemirror_mode": {
    "name": "ipython",
    "version": 3
   },
   "file_extension": ".py",
   "mimetype": "text/x-python",
   "name": "python",
   "nbconvert_exporter": "python",
   "pygments_lexer": "ipython3",
   "version": "3.7.3"
  },
  "widgets": {
   "application/vnd.jupyter.widget-state+json": {
    "state": {},
    "version_major": 2,
    "version_minor": 0
   }
  }
 },
 "nbformat": 4,
 "nbformat_minor": 5
}
