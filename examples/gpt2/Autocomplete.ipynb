{
 "cells": [
  {
   "cell_type": "markdown",
   "metadata": {},
   "source": [
    "# NoteFlow\n",
    "- The first code cell of a noteflow is special and documents inputs and outputs via formatted comments.\n",
    "- However, it is arbitrary code and can be used in any way you like for local development and testing. In production, values provided by the user are inserted just below this cell. \n",
    "- The formatted comments (I/O spec) have three parts:\n",
    "    - **input/ouput**: marks variable as an input or output\n",
    "    - **type**: I/O is typed (for the underlying API). Types are: `string`, `text`, `number`, `boolean`, `filepath`, and `dirpath`\n",
    "    - **description**: The rest of the comment becomes the prompt/description for the field in the generated App. "
   ]
  },
  {
   "cell_type": "code",
   "execution_count": 1,
   "metadata": {
    "execution": {
     "iopub.execute_input": "2021-05-06T20:52:55.252662Z",
     "iopub.status.busy": "2021-05-06T20:52:55.252462Z",
     "iopub.status.idle": "2021-05-06T20:52:55.256270Z",
     "shell.execute_reply": "2021-05-06T20:52:55.255551Z",
     "shell.execute_reply.started": "2021-05-06T20:52:55.252638Z"
    }
   },
   "outputs": [],
   "source": [
    "text = 'The answer to the universe is '  #input text     Text Prompt (e.g. \"The answer to the universe is \")\n",
    "\n",
    "completion = None                        #output text    Completion\n",
    "completion2 = None                       #output text    Alt Completion\n",
    "completion3 = None                       #output text    Alt Completion"
   ]
  },
  {
   "cell_type": "markdown",
   "metadata": {
    "execution": {
     "iopub.execute_input": "2021-04-29T19:29:29.052570Z",
     "iopub.status.busy": "2021-04-29T19:29:29.052338Z",
     "iopub.status.idle": "2021-04-29T19:29:29.055518Z",
     "shell.execute_reply": "2021-04-29T19:29:29.054775Z",
     "shell.execute_reply.started": "2021-04-29T19:29:29.052542Z"
    }
   },
   "source": [
    "## NoteFlow Libraries\n",
    "- `numpy`, `pandas`, `matplotlib` and many others are pre-installed\n",
    "- install missing libraries with `!pip install` "
   ]
  },
  {
   "cell_type": "code",
   "execution_count": 2,
   "metadata": {
    "execution": {
     "iopub.execute_input": "2021-05-06T20:52:55.257230Z",
     "iopub.status.busy": "2021-05-06T20:52:55.257064Z",
     "iopub.status.idle": "2021-05-06T20:52:55.369563Z",
     "shell.execute_reply": "2021-05-06T20:52:55.368868Z",
     "shell.execute_reply.started": "2021-05-06T20:52:55.257209Z"
    }
   },
   "outputs": [],
   "source": [
    "import json\n",
    "import requests"
   ]
  },
  {
   "cell_type": "markdown",
   "metadata": {
    "execution": {
     "iopub.execute_input": "2021-04-29T20:21:21.118728Z",
     "iopub.status.busy": "2021-04-29T20:21:21.118518Z",
     "iopub.status.idle": "2021-04-29T20:21:21.121185Z",
     "shell.execute_reply": "2021-04-29T20:21:21.120624Z",
     "shell.execute_reply.started": "2021-04-29T20:21:21.118704Z"
    }
   },
   "source": [
    "## Cleanup & defaults"
   ]
  },
  {
   "cell_type": "code",
   "execution_count": 3,
   "metadata": {
    "execution": {
     "iopub.execute_input": "2021-05-06T20:52:55.371065Z",
     "iopub.status.busy": "2021-05-06T20:52:55.370881Z",
     "iopub.status.idle": "2021-05-06T20:52:55.380671Z",
     "shell.execute_reply": "2021-05-06T20:52:55.380071Z",
     "shell.execute_reply.started": "2021-05-06T20:52:55.371042Z"
    }
   },
   "outputs": [
    {
     "data": {
      "text/plain": [
       "'The answer to the universe is '"
      ]
     },
     "execution_count": 3,
     "metadata": {},
     "output_type": "execute_result"
    }
   ],
   "source": [
    "if text is None or text.strip()=='':\n",
    "    text = 'The answer to the universe is '\n",
    "text"
   ]
  },
  {
   "cell_type": "markdown",
   "metadata": {},
   "source": [
    "## Call GPT2 (Huggingface hosted) \n",
    "[GPT2](https://openai.com/blog/better-language-models/) transformer as served by [Hugggingface](https://huggingface.co/gpt2)\n",
    "\n",
    "> GPT-2 is a transformers model pretrained on a very large corpus of English data in a self-supervised fashion. This means it was pretrained on the raw texts only, with no humans labelling them in any way (which is why it can use lots of publicly available data) with an automatic process to generate inputs and labels from those texts. More precisely, it was trained to guess the next word in sentences.\n",
    "\n",
    "> More precisely, inputs are sequences of continuous text of a certain length and the targets are the same sequence, shifted one token (word or piece of word) to the right. The model uses internally a mask-mechanism to make sure the predictions for the token i only uses the inputs from 1 to i but not the future tokens.\n",
    "\n",
    "> This way, the model learns an inner representation of the English language that can then be used to extract features useful for downstream tasks. The model is best at what it was pretrained for however, which is generating texts from a prompt."
   ]
  },
  {
   "cell_type": "code",
   "execution_count": 4,
   "metadata": {
    "execution": {
     "iopub.execute_input": "2021-05-06T20:52:55.382033Z",
     "iopub.status.busy": "2021-05-06T20:52:55.381825Z",
     "iopub.status.idle": "2021-05-06T20:52:55.384962Z",
     "shell.execute_reply": "2021-05-06T20:52:55.384293Z",
     "shell.execute_reply.started": "2021-05-06T20:52:55.382008Z"
    }
   },
   "outputs": [],
   "source": [
    "API_URL = \"https://api-inference.huggingface.co/models/gpt2\"\n",
    "#headers = {\"Authorization\": f\"Bearer {API_TOKEN}\"}\n",
    "headers = {}"
   ]
  },
  {
   "cell_type": "code",
   "execution_count": 5,
   "metadata": {
    "execution": {
     "iopub.execute_input": "2021-05-06T20:52:55.386157Z",
     "iopub.status.busy": "2021-05-06T20:52:55.385967Z",
     "iopub.status.idle": "2021-05-06T20:52:55.390719Z",
     "shell.execute_reply": "2021-05-06T20:52:55.390093Z",
     "shell.execute_reply.started": "2021-05-06T20:52:55.386134Z"
    }
   },
   "outputs": [],
   "source": [
    "def query(payload, params):\n",
    "    data = json.dumps({'inputs': payload, 'parameters': params})\n",
    "    response = requests.request(\"POST\", API_URL, headers=headers, data=data)\n",
    "    return json.loads(response.content.decode(\"utf-8\"))"
   ]
  },
  {
   "cell_type": "markdown",
   "metadata": {},
   "source": [
    "### Predict"
   ]
  },
  {
   "cell_type": "code",
   "execution_count": 6,
   "metadata": {
    "execution": {
     "iopub.execute_input": "2021-05-06T20:52:55.391719Z",
     "iopub.status.busy": "2021-05-06T20:52:55.391532Z",
     "iopub.status.idle": "2021-05-06T20:52:55.394934Z",
     "shell.execute_reply": "2021-05-06T20:52:55.394175Z",
     "shell.execute_reply.started": "2021-05-06T20:52:55.391697Z"
    }
   },
   "outputs": [],
   "source": [
    "params = {\n",
    "    'use_cache': False, \n",
    "    'num_return_sequences': 3, \n",
    "    'max_new_tokens': 100,\n",
    "    'max_time': 15\n",
    "}"
   ]
  },
  {
   "cell_type": "code",
   "execution_count": 7,
   "metadata": {
    "execution": {
     "iopub.execute_input": "2021-05-06T20:52:55.396210Z",
     "iopub.status.busy": "2021-05-06T20:52:55.395901Z",
     "iopub.status.idle": "2021-05-06T20:53:00.327593Z",
     "shell.execute_reply": "2021-05-06T20:53:00.326836Z",
     "shell.execute_reply.started": "2021-05-06T20:52:55.396174Z"
    }
   },
   "outputs": [
    {
     "data": {
      "text/plain": [
       "[{'generated_text': 'The answer to the universe is ˜˜˜˜˜˜˜˜˜˜˜˜˜˜˜˜˜˜˜˜˜˜˜˜˜˜˜˜˜˜˜˜˜˜˜˜˜˜˜˜˜˜˜˜˜˜˜˜˜˜˜˜˜\\n\\nD. The Big Bang Theory\\n\\nC-4.7: Creation of new universes\\n\\nIn Part II of this series, I will discuss how the universe is being constructed and how the universe was constructed. Then I'},\n",
       " {'generated_text': \"The answer to the universe is ichthyosuicide. It's basically in the same way that the universe has been broken into pieces by natural disasters that destroy people's culture. The main reason for the destruction seems to be the lack of faith in the God you believe in the most.\\n\\n\\nI'm guessing people do not have faith in anyone else because they don't use the word or lack faith in their own beliefs.\\n\\n\\nI know the reason so many religious people are dying because their religion is hijacked.\\n\\n\\n\"},\n",
       " {'generated_text': 'The answer to the universe is _________. That is what we get (although we also get from _________.), but the Universe we talk about is not one of _________. It is a very simple thing, and can be illustrated quite briefly with the following line. Suppose you were to write a function from a string or a file into a calculator and apply a formula to how it would be distributed, and the formula is: 0.8333333333 = 0 (A - R) / 2 (D - R).\"'}]"
      ]
     },
     "execution_count": 7,
     "metadata": {},
     "output_type": "execute_result"
    }
   ],
   "source": [
    "data = query(text, params)\n",
    "data"
   ]
  },
  {
   "cell_type": "code",
   "execution_count": 8,
   "metadata": {
    "execution": {
     "iopub.execute_input": "2021-05-06T20:53:00.328814Z",
     "iopub.status.busy": "2021-05-06T20:53:00.328608Z",
     "iopub.status.idle": "2021-05-06T20:53:00.333203Z",
     "shell.execute_reply": "2021-05-06T20:53:00.332559Z",
     "shell.execute_reply.started": "2021-05-06T20:53:00.328789Z"
    }
   },
   "outputs": [
    {
     "data": {
      "text/plain": [
       "'The answer to the universe is ˜˜˜˜˜˜˜˜˜˜˜˜˜˜˜˜˜˜˜˜˜˜˜˜˜˜˜˜˜˜˜˜˜˜˜˜˜˜˜˜˜˜˜˜˜˜˜˜˜˜˜˜˜\\n\\nD. The Big Bang Theory\\n\\nC-4.7: Creation of new universes\\n\\nIn Part II of this series, I will discuss how the universe is being constructed and how the universe was constructed. Then I'"
      ]
     },
     "execution_count": 8,
     "metadata": {},
     "output_type": "execute_result"
    }
   ],
   "source": [
    "completion = data[0]['generated_text']\n",
    "completion"
   ]
  },
  {
   "cell_type": "code",
   "execution_count": 9,
   "metadata": {
    "execution": {
     "iopub.execute_input": "2021-05-06T20:53:00.334834Z",
     "iopub.status.busy": "2021-05-06T20:53:00.334652Z",
     "iopub.status.idle": "2021-05-06T20:53:00.338816Z",
     "shell.execute_reply": "2021-05-06T20:53:00.338219Z",
     "shell.execute_reply.started": "2021-05-06T20:53:00.334811Z"
    }
   },
   "outputs": [
    {
     "data": {
      "text/plain": [
       "\"The answer to the universe is ichthyosuicide. It's basically in the same way that the universe has been broken into pieces by natural disasters that destroy people's culture. The main reason for the destruction seems to be the lack of faith in the God you believe in the most.\\n\\n\\nI'm guessing people do not have faith in anyone else because they don't use the word or lack faith in their own beliefs.\\n\\n\\nI know the reason so many religious people are dying because their religion is hijacked.\\n\\n\\n\""
      ]
     },
     "execution_count": 9,
     "metadata": {},
     "output_type": "execute_result"
    }
   ],
   "source": [
    "completion2 = data[1]['generated_text']\n",
    "completion2"
   ]
  },
  {
   "cell_type": "code",
   "execution_count": 10,
   "metadata": {
    "execution": {
     "iopub.execute_input": "2021-05-06T20:53:00.339847Z",
     "iopub.status.busy": "2021-05-06T20:53:00.339672Z",
     "iopub.status.idle": "2021-05-06T20:53:00.344149Z",
     "shell.execute_reply": "2021-05-06T20:53:00.343592Z",
     "shell.execute_reply.started": "2021-05-06T20:53:00.339825Z"
    }
   },
   "outputs": [
    {
     "data": {
      "text/plain": [
       "'The answer to the universe is _________. That is what we get (although we also get from _________.), but the Universe we talk about is not one of _________. It is a very simple thing, and can be illustrated quite briefly with the following line. Suppose you were to write a function from a string or a file into a calculator and apply a formula to how it would be distributed, and the formula is: 0.8333333333 = 0 (A - R) / 2 (D - R).\"'"
      ]
     },
     "execution_count": 10,
     "metadata": {},
     "output_type": "execute_result"
    }
   ],
   "source": [
    "completion3 = data[2]['generated_text']\n",
    "completion3"
   ]
  },
  {
   "cell_type": "code",
   "execution_count": null,
   "metadata": {},
   "outputs": [],
   "source": []
  }
 ],
 "metadata": {
  "kernelspec": {
   "display_name": "Python 3",
   "language": "python",
   "name": "python3"
  },
  "language_info": {
   "codemirror_mode": {
    "name": "ipython",
    "version": 3
   },
   "file_extension": ".py",
   "mimetype": "text/x-python",
   "name": "python",
   "nbconvert_exporter": "python",
   "pygments_lexer": "ipython3",
   "version": "3.7.3"
  },
  "widgets": {
   "application/vnd.jupyter.widget-state+json": {
    "state": {},
    "version_major": 2,
    "version_minor": 0
   }
  }
 },
 "nbformat": 4,
 "nbformat_minor": 5
}
